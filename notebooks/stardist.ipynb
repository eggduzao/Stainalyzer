{
 "cells": [
  {
   "cell_type": "markdown",
   "metadata": {},
   "source": [
    "## Jupyter Notebook: Stardist Testing\n",
    "\n",
    "This notebook will explore stardist pre-trained models."
   ]
  },
  {
   "cell_type": "code",
   "execution_count": 1,
   "metadata": {},
   "outputs": [],
   "source": [
    "import os\n",
    "import numpy as np\n",
    "import matplotlib.pyplot as plt\n",
    "from stardist.models import StarDist2D\n",
    "from csbdeep.utils import normalize\n",
    "from skimage.io import imread\n",
    "np.random.seed(1987)"
   ]
  },
  {
   "cell_type": "code",
   "execution_count": 2,
   "metadata": {},
   "outputs": [
    {
     "name": "stdout",
     "output_type": "stream",
     "text": [
      "Found model '2D_versatile_fluo' for 'StarDist2D'.\n",
      "Loading network weights from 'weights_best.h5'.\n",
      "Loading thresholds from 'thresholds.json'.\n",
      "Using default values: prob_thresh=0.479071, nms_thresh=0.3.\n"
     ]
    },
    {
     "name": "stderr",
     "output_type": "stream",
     "text": [
      "2025-03-04 14:19:04.754113: W tensorflow/core/platform/profile_utils/cpu_utils.cc:128] Failed to get CPU frequency: 0 Hz\n"
     ]
    }
   ],
   "source": [
    "# Load a StarDist pre-trained model\n",
    "model = StarDist2D.from_pretrained(\"2D_versatile_fluo\")\n",
    "\n",
    "# Generate a fake image\n",
    "img = np.random.rand(256, 256)\n",
    "\n",
    "# Normalize and predict\n",
    "labels, details = model.predict_instances(normalize(img))"
   ]
  },
  {
   "cell_type": "code",
   "execution_count": 3,
   "metadata": {},
   "outputs": [
    {
     "data": {
      "image/png": "[encoded data removed]",
      "text/plain": [
       "<Figure size 640x480 with 1 Axes>"
      ]
     },
     "metadata": {},
     "output_type": "display_data"
    }
   ],
   "source": [
    "# Display result\n",
    "plt.imshow(labels, cmap=\"jet\")\n",
    "plt.title(\"StarDist Segmentation\")\n",
    "plt.show()"
   ]
  },
  {
   "cell_type": "code",
   "execution_count": 12,
   "metadata": {},
   "outputs": [
    {
     "name": "stdout",
     "output_type": "stream",
     "text": [
      "(1024, 1024, 3)\n",
      "Found model '2D_versatile_fluo' for 'StarDist2D'.\n",
      "Loading network weights from 'weights_best.h5'.\n",
      "Loading thresholds from 'thresholds.json'.\n",
      "Using default values: prob_thresh=0.479071, nms_thresh=0.3.\n"
     ]
    }
   ],
   "source": [
    "# Load an image (replace with your image path)\n",
    "prefix = \"/Users/egg/Projects/Stainalyzer/data/\"\n",
    "image_path = os.path.join(prefix, \"interim/images_to_enhance/cell_00058.png\")\n",
    "img = imread(image_path)\n",
    "img = img.astype(np.float32)\n",
    "print(img.shape)\n",
    "# Load a pre-trained model\n",
    "model = StarDist2D.from_pretrained(\"2D_versatile_fluo\")\n",
    "\n",
    "# Normalize and predict\n",
    "#labels, details = model.predict_instances(normalize(img))\n",
    "\n",
    "# Show result\n",
    "#plt.imshow(labels, cmap=\"jet\")\n",
    "#plt.title(\"StarDist on Your Image\")\n",
    "#plt.show()"
   ]
  },
  {
   "cell_type": "code",
   "execution_count": null,
   "metadata": {},
   "outputs": [],
   "source": []
  }
 ],
 "metadata": {
  "kernelspec": {
   "display_name": "Python 3 (ipykernel)",
   "language": "python",
   "name": "python3"
  },
  "language_info": {
   "codemirror_mode": {
    "name": "ipython",
    "version": 3
   },
   "file_extension": ".py",
   "mimetype": "text/x-python",
   "name": "python",
   "nbconvert_exporter": "python",
   "pygments_lexer": "ipython3",
   "version": "3.12.9"
  }
 },
 "nbformat": 4,
 "nbformat_minor": 4
}
