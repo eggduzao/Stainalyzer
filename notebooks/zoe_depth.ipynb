{
 "cells": [
  {
   "cell_type": "markdown",
   "id": "cd2a8e3b-1170-40b5-a12d-ce98b7cb308f",
   "metadata": {},
   "source": [
    "## Jupyter Notebook: ZoeDepth Testing\n",
    "\n",
    "This notebook will explore ZoeDepth."
   ]
  },
  {
   "cell_type": "code",
   "execution_count": 3,
   "id": "2328ac95-085f-4792-bb63-f2af9e0eacbb",
   "metadata": {},
   "outputs": [
    {
     "name": "stdout",
     "output_type": "stream",
     "text": [
      "Cloning into 'ZoeDepth'...\n",
      "remote: Enumerating objects: 111, done.\u001b[K\n",
      "remote: Counting objects: 100% (69/69), done.\u001b[K\n",
      "remote: Compressing objects: 100% (46/46), done.\u001b[K\n",
      "remote: Total 111 (delta 38), reused 23 (delta 23), pack-reused 42 (from 2)\u001b[K\n",
      "Receiving objects: 100% (111/111), 4.09 MiB | 3.04 MiB/s, done.\n",
      "Resolving deltas: 100% (39/39), done.\n"
     ]
    }
   ],
   "source": [
    "!git clone https://github.com/isl-org/ZoeDepth.git && cd ZoeDepth"
   ]
  },
  {
   "cell_type": "code",
   "execution_count": 17,
   "id": "201ad79f-68b6-431a-ac18-a27afbbeec02",
   "metadata": {},
   "outputs": [],
   "source": [
    "import os\n",
    "import sys\n",
    "path = os.path.abspath(os.getcwd())\n",
    "sys.path.append(os.path.join(path, \"ZoeDepth\"))\n",
    "from zoedepth.models.builder import build_model\n",
    "from zoedepth.utils.config import get_config"
   ]
  },
  {
   "cell_type": "code",
   "execution_count": 19,
   "id": "cf39aa77-494e-4a31-afe0-799a8f5b69a9",
   "metadata": {},
   "outputs": [
    {
     "name": "stdout",
     "output_type": "stream",
     "text": [
      "img_size [384, 512]\n"
     ]
    },
    {
     "name": "stderr",
     "output_type": "stream",
     "text": [
      "Using cache found in /Users/egg/.cache/torch/hub/intel-isl_MiDaS_master\n",
      "/Users/egg/micromamba/envs/stardisty/lib/python3.9/site-packages/timm/models/layers/__init__.py:48: FutureWarning: Importing from timm.models.layers is deprecated, please import via timm.layers\n",
      "  warnings.warn(f\"Importing from {__name__} is deprecated, please import via timm.layers\", FutureWarning)\n"
     ]
    },
    {
     "name": "stdout",
     "output_type": "stream",
     "text": [
      "Params passed to Resize transform:\n",
      "\twidth:  512\n",
      "\theight:  384\n",
      "\tresize_target:  True\n",
      "\tkeep_aspect_ratio:  True\n",
      "\tensure_multiple_of:  32\n",
      "\tresize_method:  minimal\n",
      "Using pretrained resource url::https://github.com/isl-org/ZoeDepth/releases/download/v1.0/ZoeD_M12_N.pt\n"
     ]
    },
    {
     "name": "stderr",
     "output_type": "stream",
     "text": [
      "Downloading: \"https://github.com/isl-org/ZoeDepth/releases/download/v1.0/ZoeD_M12_N.pt\" to /Users/egg/.cache/torch/hub/checkpoints/ZoeD_M12_N.pt\n",
      "100%|██████████████████████████████████████| 1.34G/1.34G [01:18<00:00, 18.3MB/s]\n"
     ]
    },
    {
     "ename": "RuntimeError",
     "evalue": "Error(s) in loading state_dict for ZoeDepth:\n\tUnexpected key(s) in state_dict: \"core.core.pretrained.model.blocks.0.attn.relative_position_index\", \"core.core.pretrained.model.blocks.1.attn.relative_position_index\", \"core.core.pretrained.model.blocks.2.attn.relative_position_index\", \"core.core.pretrained.model.blocks.3.attn.relative_position_index\", \"core.core.pretrained.model.blocks.4.attn.relative_position_index\", \"core.core.pretrained.model.blocks.5.attn.relative_position_index\", \"core.core.pretrained.model.blocks.6.attn.relative_position_index\", \"core.core.pretrained.model.blocks.7.attn.relative_position_index\", \"core.core.pretrained.model.blocks.8.attn.relative_position_index\", \"core.core.pretrained.model.blocks.9.attn.relative_position_index\", \"core.core.pretrained.model.blocks.10.attn.relative_position_index\", \"core.core.pretrained.model.blocks.11.attn.relative_position_index\", \"core.core.pretrained.model.blocks.12.attn.relative_position_index\", \"core.core.pretrained.model.blocks.13.attn.relative_position_index\", \"core.core.pretrained.model.blocks.14.attn.relative_position_index\", \"core.core.pretrained.model.blocks.15.attn.relative_position_index\", \"core.core.pretrained.model.blocks.16.attn.relative_position_index\", \"core.core.pretrained.model.blocks.17.attn.relative_position_index\", \"core.core.pretrained.model.blocks.18.attn.relative_position_index\", \"core.core.pretrained.model.blocks.19.attn.relative_position_index\", \"core.core.pretrained.model.blocks.20.attn.relative_position_index\", \"core.core.pretrained.model.blocks.21.attn.relative_position_index\", \"core.core.pretrained.model.blocks.22.attn.relative_position_index\", \"core.core.pretrained.model.blocks.23.attn.relative_position_index\". ",
     "output_type": "error",
     "traceback": [
      "\u001b[0;31m---------------------------------------------------------------------------\u001b[0m",
      "\u001b[0;31mRuntimeError\u001b[0m                              Traceback (most recent call last)",
      "Cell \u001b[0;32mIn[19], line 3\u001b[0m\n\u001b[1;32m      1\u001b[0m \u001b[38;5;66;03m# ZoeD_N\u001b[39;00m\n\u001b[1;32m      2\u001b[0m conf \u001b[38;5;241m=\u001b[39m get_config(\u001b[38;5;124m\"\u001b[39m\u001b[38;5;124mzoedepth\u001b[39m\u001b[38;5;124m\"\u001b[39m, \u001b[38;5;124m\"\u001b[39m\u001b[38;5;124minfer\u001b[39m\u001b[38;5;124m\"\u001b[39m)\n\u001b[0;32m----> 3\u001b[0m model_zoe_n \u001b[38;5;241m=\u001b[39m \u001b[43mbuild_model\u001b[49m\u001b[43m(\u001b[49m\u001b[43mconf\u001b[49m\u001b[43m)\u001b[49m\n\u001b[1;32m      5\u001b[0m \u001b[38;5;66;03m# ZoeD_K\u001b[39;00m\n\u001b[1;32m      6\u001b[0m conf \u001b[38;5;241m=\u001b[39m get_config(\u001b[38;5;124m\"\u001b[39m\u001b[38;5;124mzoedepth\u001b[39m\u001b[38;5;124m\"\u001b[39m, \u001b[38;5;124m\"\u001b[39m\u001b[38;5;124minfer\u001b[39m\u001b[38;5;124m\"\u001b[39m, config_version\u001b[38;5;241m=\u001b[39m\u001b[38;5;124m\"\u001b[39m\u001b[38;5;124mkitti\u001b[39m\u001b[38;5;124m\"\u001b[39m)\n",
      "File \u001b[0;32m~/Projects/Stainalyzer/notebooks/ZoeDepth/zoedepth/models/builder.py:51\u001b[0m, in \u001b[0;36mbuild_model\u001b[0;34m(config)\u001b[0m\n\u001b[1;32m     48\u001b[0m \u001b[38;5;28;01mexcept\u001b[39;00m \u001b[38;5;167;01mAttributeError\u001b[39;00m \u001b[38;5;28;01mas\u001b[39;00m e:\n\u001b[1;32m     49\u001b[0m     \u001b[38;5;28;01mraise\u001b[39;00m \u001b[38;5;167;01mValueError\u001b[39;00m(\n\u001b[1;32m     50\u001b[0m         \u001b[38;5;124mf\u001b[39m\u001b[38;5;124m\"\u001b[39m\u001b[38;5;124mModel \u001b[39m\u001b[38;5;132;01m{\u001b[39;00mconfig\u001b[38;5;241m.\u001b[39mmodel\u001b[38;5;132;01m}\u001b[39;00m\u001b[38;5;124m has no get_version function.\u001b[39m\u001b[38;5;124m\"\u001b[39m) \u001b[38;5;28;01mfrom\u001b[39;00m\u001b[38;5;250m \u001b[39m\u001b[38;5;21;01me\u001b[39;00m\n\u001b[0;32m---> 51\u001b[0m \u001b[38;5;28;01mreturn\u001b[39;00m \u001b[43mget_version\u001b[49m\u001b[43m(\u001b[49m\u001b[43mconfig\u001b[49m\u001b[38;5;241;43m.\u001b[39;49m\u001b[43mversion_name\u001b[49m\u001b[43m)\u001b[49m\u001b[38;5;241;43m.\u001b[39;49m\u001b[43mbuild_from_config\u001b[49m\u001b[43m(\u001b[49m\u001b[43mconfig\u001b[49m\u001b[43m)\u001b[49m\n",
      "File \u001b[0;32m~/Projects/Stainalyzer/notebooks/ZoeDepth/zoedepth/models/zoedepth/zoedepth_v1.py:250\u001b[0m, in \u001b[0;36mZoeDepth.build_from_config\u001b[0;34m(config)\u001b[0m\n\u001b[1;32m    248\u001b[0m \u001b[38;5;129m@staticmethod\u001b[39m\n\u001b[1;32m    249\u001b[0m \u001b[38;5;28;01mdef\u001b[39;00m\u001b[38;5;250m \u001b[39m\u001b[38;5;21mbuild_from_config\u001b[39m(config):\n\u001b[0;32m--> 250\u001b[0m     \u001b[38;5;28;01mreturn\u001b[39;00m \u001b[43mZoeDepth\u001b[49m\u001b[38;5;241;43m.\u001b[39;49m\u001b[43mbuild\u001b[49m\u001b[43m(\u001b[49m\u001b[38;5;241;43m*\u001b[39;49m\u001b[38;5;241;43m*\u001b[39;49m\u001b[43mconfig\u001b[49m\u001b[43m)\u001b[49m\n",
      "File \u001b[0;32m~/Projects/Stainalyzer/notebooks/ZoeDepth/zoedepth/models/zoedepth/zoedepth_v1.py:245\u001b[0m, in \u001b[0;36mZoeDepth.build\u001b[0;34m(midas_model_type, pretrained_resource, use_pretrained_midas, train_midas, freeze_midas_bn, **kwargs)\u001b[0m\n\u001b[1;32m    243\u001b[0m \u001b[38;5;28;01mif\u001b[39;00m pretrained_resource:\n\u001b[1;32m    244\u001b[0m     \u001b[38;5;28;01massert\u001b[39;00m \u001b[38;5;28misinstance\u001b[39m(pretrained_resource, \u001b[38;5;28mstr\u001b[39m), \u001b[38;5;124m\"\u001b[39m\u001b[38;5;124mpretrained_resource must be a string\u001b[39m\u001b[38;5;124m\"\u001b[39m\n\u001b[0;32m--> 245\u001b[0m     model \u001b[38;5;241m=\u001b[39m \u001b[43mload_state_from_resource\u001b[49m\u001b[43m(\u001b[49m\u001b[43mmodel\u001b[49m\u001b[43m,\u001b[49m\u001b[43m \u001b[49m\u001b[43mpretrained_resource\u001b[49m\u001b[43m)\u001b[49m\n\u001b[1;32m    246\u001b[0m \u001b[38;5;28;01mreturn\u001b[39;00m model\n",
      "File \u001b[0;32m~/Projects/Stainalyzer/notebooks/ZoeDepth/zoedepth/models/model_io.py:84\u001b[0m, in \u001b[0;36mload_state_from_resource\u001b[0;34m(model, resource)\u001b[0m\n\u001b[1;32m     82\u001b[0m \u001b[38;5;28;01mif\u001b[39;00m resource\u001b[38;5;241m.\u001b[39mstartswith(\u001b[38;5;124m'\u001b[39m\u001b[38;5;124murl::\u001b[39m\u001b[38;5;124m'\u001b[39m):\n\u001b[1;32m     83\u001b[0m     url \u001b[38;5;241m=\u001b[39m resource\u001b[38;5;241m.\u001b[39msplit(\u001b[38;5;124m'\u001b[39m\u001b[38;5;124murl::\u001b[39m\u001b[38;5;124m'\u001b[39m)[\u001b[38;5;241m1\u001b[39m]\n\u001b[0;32m---> 84\u001b[0m     \u001b[38;5;28;01mreturn\u001b[39;00m \u001b[43mload_state_dict_from_url\u001b[49m\u001b[43m(\u001b[49m\u001b[43mmodel\u001b[49m\u001b[43m,\u001b[49m\u001b[43m \u001b[49m\u001b[43murl\u001b[49m\u001b[43m,\u001b[49m\u001b[43m \u001b[49m\u001b[43mprogress\u001b[49m\u001b[38;5;241;43m=\u001b[39;49m\u001b[38;5;28;43;01mTrue\u001b[39;49;00m\u001b[43m)\u001b[49m\n\u001b[1;32m     86\u001b[0m \u001b[38;5;28;01melif\u001b[39;00m resource\u001b[38;5;241m.\u001b[39mstartswith(\u001b[38;5;124m'\u001b[39m\u001b[38;5;124mlocal::\u001b[39m\u001b[38;5;124m'\u001b[39m):\n\u001b[1;32m     87\u001b[0m     path \u001b[38;5;241m=\u001b[39m resource\u001b[38;5;241m.\u001b[39msplit(\u001b[38;5;124m'\u001b[39m\u001b[38;5;124mlocal::\u001b[39m\u001b[38;5;124m'\u001b[39m)[\u001b[38;5;241m1\u001b[39m]\n",
      "File \u001b[0;32m~/Projects/Stainalyzer/notebooks/ZoeDepth/zoedepth/models/model_io.py:61\u001b[0m, in \u001b[0;36mload_state_dict_from_url\u001b[0;34m(model, url, **kwargs)\u001b[0m\n\u001b[1;32m     59\u001b[0m \u001b[38;5;28;01mdef\u001b[39;00m\u001b[38;5;250m \u001b[39m\u001b[38;5;21mload_state_dict_from_url\u001b[39m(model, url, \u001b[38;5;241m*\u001b[39m\u001b[38;5;241m*\u001b[39mkwargs):\n\u001b[1;32m     60\u001b[0m     state_dict \u001b[38;5;241m=\u001b[39m torch\u001b[38;5;241m.\u001b[39mhub\u001b[38;5;241m.\u001b[39mload_state_dict_from_url(url, map_location\u001b[38;5;241m=\u001b[39m\u001b[38;5;124m'\u001b[39m\u001b[38;5;124mcpu\u001b[39m\u001b[38;5;124m'\u001b[39m, \u001b[38;5;241m*\u001b[39m\u001b[38;5;241m*\u001b[39mkwargs)\n\u001b[0;32m---> 61\u001b[0m     \u001b[38;5;28;01mreturn\u001b[39;00m \u001b[43mload_state_dict\u001b[49m\u001b[43m(\u001b[49m\u001b[43mmodel\u001b[49m\u001b[43m,\u001b[49m\u001b[43m \u001b[49m\u001b[43mstate_dict\u001b[49m\u001b[43m)\u001b[49m\n",
      "File \u001b[0;32m~/Projects/Stainalyzer/notebooks/ZoeDepth/zoedepth/models/model_io.py:49\u001b[0m, in \u001b[0;36mload_state_dict\u001b[0;34m(model, state_dict)\u001b[0m\n\u001b[1;32m     45\u001b[0m         k \u001b[38;5;241m=\u001b[39m \u001b[38;5;124m'\u001b[39m\u001b[38;5;124mmodule.\u001b[39m\u001b[38;5;124m'\u001b[39m \u001b[38;5;241m+\u001b[39m k\n\u001b[1;32m     47\u001b[0m     state[k] \u001b[38;5;241m=\u001b[39m v\n\u001b[0;32m---> 49\u001b[0m \u001b[43mmodel\u001b[49m\u001b[38;5;241;43m.\u001b[39;49m\u001b[43mload_state_dict\u001b[49m\u001b[43m(\u001b[49m\u001b[43mstate\u001b[49m\u001b[43m)\u001b[49m\n\u001b[1;32m     50\u001b[0m \u001b[38;5;28mprint\u001b[39m(\u001b[38;5;124m\"\u001b[39m\u001b[38;5;124mLoaded successfully\u001b[39m\u001b[38;5;124m\"\u001b[39m)\n\u001b[1;32m     51\u001b[0m \u001b[38;5;28;01mreturn\u001b[39;00m model\n",
      "File \u001b[0;32m~/micromamba/envs/stardisty/lib/python3.9/site-packages/torch/nn/modules/module.py:1671\u001b[0m, in \u001b[0;36mModule.load_state_dict\u001b[0;34m(self, state_dict, strict)\u001b[0m\n\u001b[1;32m   1666\u001b[0m         error_msgs\u001b[38;5;241m.\u001b[39minsert(\n\u001b[1;32m   1667\u001b[0m             \u001b[38;5;241m0\u001b[39m, \u001b[38;5;124m'\u001b[39m\u001b[38;5;124mMissing key(s) in state_dict: \u001b[39m\u001b[38;5;132;01m{}\u001b[39;00m\u001b[38;5;124m. \u001b[39m\u001b[38;5;124m'\u001b[39m\u001b[38;5;241m.\u001b[39mformat(\n\u001b[1;32m   1668\u001b[0m                 \u001b[38;5;124m'\u001b[39m\u001b[38;5;124m, \u001b[39m\u001b[38;5;124m'\u001b[39m\u001b[38;5;241m.\u001b[39mjoin(\u001b[38;5;124m'\u001b[39m\u001b[38;5;124m\"\u001b[39m\u001b[38;5;132;01m{}\u001b[39;00m\u001b[38;5;124m\"\u001b[39m\u001b[38;5;124m'\u001b[39m\u001b[38;5;241m.\u001b[39mformat(k) \u001b[38;5;28;01mfor\u001b[39;00m k \u001b[38;5;129;01min\u001b[39;00m missing_keys)))\n\u001b[1;32m   1670\u001b[0m \u001b[38;5;28;01mif\u001b[39;00m \u001b[38;5;28mlen\u001b[39m(error_msgs) \u001b[38;5;241m>\u001b[39m \u001b[38;5;241m0\u001b[39m:\n\u001b[0;32m-> 1671\u001b[0m     \u001b[38;5;28;01mraise\u001b[39;00m \u001b[38;5;167;01mRuntimeError\u001b[39;00m(\u001b[38;5;124m'\u001b[39m\u001b[38;5;124mError(s) in loading state_dict for \u001b[39m\u001b[38;5;132;01m{}\u001b[39;00m\u001b[38;5;124m:\u001b[39m\u001b[38;5;130;01m\\n\u001b[39;00m\u001b[38;5;130;01m\\t\u001b[39;00m\u001b[38;5;132;01m{}\u001b[39;00m\u001b[38;5;124m'\u001b[39m\u001b[38;5;241m.\u001b[39mformat(\n\u001b[1;32m   1672\u001b[0m                        \u001b[38;5;28mself\u001b[39m\u001b[38;5;241m.\u001b[39m\u001b[38;5;18m__class__\u001b[39m\u001b[38;5;241m.\u001b[39m\u001b[38;5;18m__name__\u001b[39m, \u001b[38;5;124m\"\u001b[39m\u001b[38;5;130;01m\\n\u001b[39;00m\u001b[38;5;130;01m\\t\u001b[39;00m\u001b[38;5;124m\"\u001b[39m\u001b[38;5;241m.\u001b[39mjoin(error_msgs)))\n\u001b[1;32m   1673\u001b[0m \u001b[38;5;28;01mreturn\u001b[39;00m _IncompatibleKeys(missing_keys, unexpected_keys)\n",
      "\u001b[0;31mRuntimeError\u001b[0m: Error(s) in loading state_dict for ZoeDepth:\n\tUnexpected key(s) in state_dict: \"core.core.pretrained.model.blocks.0.attn.relative_position_index\", \"core.core.pretrained.model.blocks.1.attn.relative_position_index\", \"core.core.pretrained.model.blocks.2.attn.relative_position_index\", \"core.core.pretrained.model.blocks.3.attn.relative_position_index\", \"core.core.pretrained.model.blocks.4.attn.relative_position_index\", \"core.core.pretrained.model.blocks.5.attn.relative_position_index\", \"core.core.pretrained.model.blocks.6.attn.relative_position_index\", \"core.core.pretrained.model.blocks.7.attn.relative_position_index\", \"core.core.pretrained.model.blocks.8.attn.relative_position_index\", \"core.core.pretrained.model.blocks.9.attn.relative_position_index\", \"core.core.pretrained.model.blocks.10.attn.relative_position_index\", \"core.core.pretrained.model.blocks.11.attn.relative_position_index\", \"core.core.pretrained.model.blocks.12.attn.relative_position_index\", \"core.core.pretrained.model.blocks.13.attn.relative_position_index\", \"core.core.pretrained.model.blocks.14.attn.relative_position_index\", \"core.core.pretrained.model.blocks.15.attn.relative_position_index\", \"core.core.pretrained.model.blocks.16.attn.relative_position_index\", \"core.core.pretrained.model.blocks.17.attn.relative_position_index\", \"core.core.pretrained.model.blocks.18.attn.relative_position_index\", \"core.core.pretrained.model.blocks.19.attn.relative_position_index\", \"core.core.pretrained.model.blocks.20.attn.relative_position_index\", \"core.core.pretrained.model.blocks.21.attn.relative_position_index\", \"core.core.pretrained.model.blocks.22.attn.relative_position_index\", \"core.core.pretrained.model.blocks.23.attn.relative_position_index\". "
     ]
    }
   ],
   "source": [
    "# ZoeD_N\n",
    "conf = get_config(\"zoedepth\", \"infer\")\n",
    "model_zoe_n = build_model(conf)\n",
    "\n",
    "# ZoeD_K\n",
    "conf = get_config(\"zoedepth\", \"infer\", config_version=\"kitti\")\n",
    "model_zoe_k = build_model(conf)\n",
    "\n",
    "# ZoeD_NK\n",
    "conf = get_config(\"zoedepth_nk\", \"infer\")\n",
    "model_zoe_nk = build_model(conf)"
   ]
  },
  {
   "cell_type": "code",
   "execution_count": 12,
   "id": "255d01d9-9a49-45c6-8c7d-2abcbd13224d",
   "metadata": {},
   "outputs": [
    {
     "name": "stderr",
     "output_type": "stream",
     "text": [
      "/Users/egg/micromamba/envs/stardisty/lib/python3.9/site-packages/torchvision/io/image.py:13: UserWarning: Failed to load image Python extension: dlopen(/Users/egg/micromamba/envs/stardisty/lib/python3.9/site-packages/torchvision/image.so, 0x0006): Library not loaded: @rpath/libjpeg.8.dylib\n",
      "  Referenced from: <A9A8F989-731E-38CF-AD19-47727B1A070E> /Users/egg/micromamba/envs/stardisty/lib/python3.9/site-packages/torchvision/image.so\n",
      "  Reason: tried: '/Users/egg/micromamba/envs/stardisty/lib/python3.9/site-packages/torchvision/../../../libjpeg.8.dylib' (no such file), '/Users/egg/micromamba/envs/stardisty/lib/python3.9/site-packages/torchvision/../../../libjpeg.8.dylib' (no such file), '/Users/egg/micromamba/envs/stardisty/lib/python3.9/lib-dynload/../../libjpeg.8.dylib' (no such file), '/Users/egg/micromamba/envs/stardisty/bin/../lib/libjpeg.8.dylib' (no such file), '/usr/local/lib/libjpeg.8.dylib' (no such file), '/usr/lib/libjpeg.8.dylib' (no such file, not in dyld cache)\n",
      "  warn(f\"Failed to load image Python extension: {e}\")\n"
     ]
    },
    {
     "ename": "ModuleNotFoundError",
     "evalue": "No module named 'zoedepth'",
     "output_type": "error",
     "traceback": [
      "\u001b[0;31m---------------------------------------------------------------------------\u001b[0m",
      "\u001b[0;31mModuleNotFoundError\u001b[0m                       Traceback (most recent call last)",
      "Cell \u001b[0;32mIn[12], line 7\u001b[0m\n\u001b[1;32m      5\u001b[0m \u001b[38;5;28;01mfrom\u001b[39;00m\u001b[38;5;250m \u001b[39m\u001b[38;5;21;01mPIL\u001b[39;00m\u001b[38;5;250m \u001b[39m\u001b[38;5;28;01mimport\u001b[39;00m Image\n\u001b[1;32m      6\u001b[0m \u001b[38;5;28;01mfrom\u001b[39;00m\u001b[38;5;250m \u001b[39m\u001b[38;5;21;01mtorchvision\u001b[39;00m\u001b[38;5;21;01m.\u001b[39;00m\u001b[38;5;21;01mtransforms\u001b[39;00m\u001b[38;5;250m \u001b[39m\u001b[38;5;28;01mimport\u001b[39;00m ToTensor\n\u001b[0;32m----> 7\u001b[0m \u001b[38;5;28;01mfrom\u001b[39;00m\u001b[38;5;250m \u001b[39m\u001b[38;5;21;01mzoedepth\u001b[39;00m\u001b[38;5;21;01m.\u001b[39;00m\u001b[38;5;21;01mutils\u001b[39;00m\u001b[38;5;21;01m.\u001b[39;00m\u001b[38;5;21;01mmisc\u001b[39;00m\u001b[38;5;250m \u001b[39m\u001b[38;5;28;01mimport\u001b[39;00m colorize\n\u001b[1;32m      8\u001b[0m \u001b[38;5;28;01mfrom\u001b[39;00m\u001b[38;5;250m \u001b[39m\u001b[38;5;21;01mzoedepth\u001b[39;00m\u001b[38;5;21;01m.\u001b[39;00m\u001b[38;5;21;01mmodels\u001b[39;00m\u001b[38;5;21;01m.\u001b[39;00m\u001b[38;5;21;01mbuilder\u001b[39;00m\u001b[38;5;250m \u001b[39m\u001b[38;5;28;01mimport\u001b[39;00m build_model\n\u001b[1;32m     10\u001b[0m \u001b[38;5;66;03m# Load your image\u001b[39;00m\n",
      "\u001b[0;31mModuleNotFoundError\u001b[0m: No module named 'zoedepth'"
     ]
    }
   ],
   "source": [
    "import cv2\n",
    "import torch\n",
    "import numpy as np\n",
    "import matplotlib.pyplot as plt\n",
    "from PIL import Image\n",
    "from torchvision.transforms import ToTensor\n",
    "from zoedepth.utils.misc import colorize\n",
    "from zoedepth.models.builder import build_model\n",
    "\n",
    "# Load your image\n",
    "image_path = \"/Users/egg/Desktop/input/image.jpg\"\n",
    "image = cv2.imread(image_path)\n",
    "image = cv2.cvtColor(image, cv2.COLOR_BGR2RGB)\n",
    "\n",
    "# Load ZoeDepth model (CPU-friendly)\n",
    "device = torch.device(\"cpu\")\n",
    "model = build_model(\"zoedepth\", device)\n",
    "model.eval()\n",
    "\n",
    "# Convert image to tensor\n",
    "input_tensor = ToTensor()(Image.fromarray(image)).unsqueeze(0).to(device)\n",
    "\n",
    "# Run depth estimation\n",
    "with torch.no_grad():\n",
    "    depth = model(input_tensor).squeeze().cpu().numpy()\n",
    "\n",
    "# Apply colormap for a pseudo-3D effect\n",
    "depth_colored = colorize(depth, cmap=\"inferno\")\n",
    "\n",
    "# Blend depth effect with original image\n",
    "enhanced_image = cv2.addWeighted(image, 0.6, depth_colored, 0.4, 0)\n",
    "\n",
    "# Save and display\n",
    "output_path = \"/Users/egg/Desktop/output/cells_3D.jpeg\"\n",
    "cv2.imwrite(output_path, cv2.cvtColor(enhanced_image, cv2.COLOR_RGB2BGR))\n",
    "\n",
    "plt.figure(figsize=(10, 5))\n",
    "plt.subplot(1, 2, 1)\n",
    "plt.imshow(image)\n",
    "plt.title(\"Original\")\n",
    "plt.axis(\"off\")\n",
    "\n",
    "plt.subplot(1, 2, 2)\n",
    "plt.imshow(enhanced_image)\n",
    "plt.title(\"Pseudo-3D Enhancement\")\n",
    "plt.axis(\"off\")\n",
    "\n",
    "plt.show()"
   ]
  },
  {
   "cell_type": "code",
   "execution_count": null,
   "id": "d3e1ca35-d6c5-4354-a75d-f48f7bd40db5",
   "metadata": {},
   "outputs": [],
   "source": []
  }
 ],
 "metadata": {
  "kernelspec": {
   "display_name": "Python 3 (ipykernel)",
   "language": "python",
   "name": "python3"
  },
  "language_info": {
   "codemirror_mode": {
    "name": "ipython",
    "version": 3
   },
   "file_extension": ".py",
   "mimetype": "text/x-python",
   "name": "python",
   "nbconvert_exporter": "python",
   "pygments_lexer": "ipython3",
   "version": "3.9.15"
  }
 },
 "nbformat": 4,
 "nbformat_minor": 5
}
